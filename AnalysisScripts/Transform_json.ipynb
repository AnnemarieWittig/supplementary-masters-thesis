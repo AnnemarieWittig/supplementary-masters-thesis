{
 "cells": [
  {
   "cell_type": "markdown",
   "metadata": {},
   "source": [
    "# Grab Repository data      "
   ]
  },
  {
   "cell_type": "code",
   "execution_count": 1,
   "metadata": {},
   "outputs": [
    {
     "data": {
      "text/plain": [
       "True"
      ]
     },
     "execution_count": 1,
     "metadata": {},
     "output_type": "execute_result"
    }
   ],
   "source": [
    "from dotenv import load_dotenv\n",
    "from helper.general import split_by_date, generate_value_in_buckets, truncate_to_same_length, aggregate_by_date, get_repository_paths\n",
    "from helper.significance import check_normality_of_buckets, use_normality_results_for_significance_independent\n",
    "import logging\n",
    "import pandas as pd\n",
    "import ast\n",
    "import os\n",
    "import matplotlib.pyplot as plt\n",
    "\n",
    "load_dotenv(override=True)"
   ]
  },
  {
   "cell_type": "code",
   "execution_count": 2,
   "metadata": {},
   "outputs": [
    {
     "name": "stdout",
     "output_type": "stream",
     "text": [
      "['/Users/annemariewittig/Master/repositoryanalysis/HRE/reflex-cep']\n"
     ]
    }
   ],
   "source": [
    "REPO_PATHS = os.getenv('STORAGE_DIRECTORIES')\n",
    "repository_directories = ast.literal_eval(REPO_PATHS) if REPO_PATHS else []\n",
    "INTRO_DATE = os.getenv('INTRO_DATE')\n",
    "BUCKET_SIZE = int(os.getenv('BUCKET_SIZE'))\n",
    "\n",
    "\n",
    "storage_path = f'../results/metric_calculation_{BUCKET_SIZE}/relative_churned_LOC_per_{BUCKET_SIZE}_days.csv'\n",
    "\n",
    "# Get only first-level subfolders in the repository directories\n",
    "repositories = get_repository_paths(repository_directories)\n",
    "\n",
    "print(repositories)"
   ]
  },
  {
   "cell_type": "markdown",
   "metadata": {},
   "source": [
    "# Generate File Level Code Churn per Repository"
   ]
  },
  {
   "cell_type": "markdown",
   "metadata": {},
   "source": [
    "## Amount of changes per file per commit"
   ]
  },
  {
   "cell_type": "code",
   "execution_count": 3,
   "metadata": {},
   "outputs": [
    {
     "name": "stdout",
     "output_type": "stream",
     "text": [
      "Processing repository: /Users/annemariewittig/Master/repositoryanalysis/HRE/reflex-cep\n",
      "Max commit date: 2025-05-15 09:34:20+02:00\n",
      "Transformed 10000 commits\n",
      "2025-07-08 13:50:37.592152Finished transforming 15326 commits\n",
      "2025-07-08 13:50:38.346389: Saved results to /Users/annemariewittig/Master/repositoryanalysis/HRE/reflex-cep/commits_file_level_changes.csv\n"
     ]
    }
   ],
   "source": [
    "import pandas as pd\n",
    "import os\n",
    "import ijson\n",
    "import datetime\n",
    "\n",
    "import numpy as np\n",
    "\n",
    "def calculate_relative_churned_LOC(dataframe):\n",
    "    dataframe['M1_relative_churned_LOC_manually_parsed'] = np.where(\n",
    "        dataframe[\"line_count\"] != 0,\n",
    "        (dataframe[\"calculated_loc_changed\"] + dataframe[\"calculated_loc_added\"]) / dataframe[\"line_count\"],\n",
    "        None\n",
    "    )\n",
    "    dataframe['M1_relative_churned_LOC_auto'] = np.where(\n",
    "        dataframe[\"line_count\"] != 0,\n",
    "        dataframe[\"loc_added\"] / dataframe[\"line_count\"],\n",
    "        None\n",
    "    )\n",
    "    return dataframe\n",
    "\n",
    "def calculate_relative_deleted_LOC(dataframe):\n",
    "    dataframe['M2_relative_deleted_LOC_manually_parsed'] = np.where(\n",
    "        dataframe[\"line_count\"] != 0,\n",
    "        dataframe[\"calculated_loc_removed\"] / dataframe[\"line_count\"],\n",
    "        None\n",
    "    )\n",
    "    dataframe['M2_relative_deleted_LOC_auto'] = np.where(\n",
    "        dataframe[\"line_count\"] != 0,\n",
    "        dataframe[\"loc_removed\"] / dataframe[\"line_count\"],\n",
    "        None\n",
    "    )\n",
    "    return dataframe\n",
    "\n",
    "def calculate_relative_churned_vs_deleted_LOC(dataframe):\n",
    "    dataframe['M7_relative_churned_deleted_LOC_manually_parsed'] = np.where(\n",
    "        dataframe[\"calculated_loc_removed\"] != 0,\n",
    "        (dataframe[\"calculated_loc_changed\"] + dataframe[\"calculated_loc_added\"]) / dataframe[\"calculated_loc_removed\"],\n",
    "        None\n",
    "    )\n",
    "    dataframe['M7_relative_churned_deleted_LOC_auto'] = np.where(\n",
    "        dataframe[\"loc_removed\"] != 0,\n",
    "        dataframe[\"calculated_loc_added\"] / dataframe[\"loc_removed\"],\n",
    "        None\n",
    "    )\n",
    "    return dataframe\n",
    "\n",
    "for repository in repositories:\n",
    "    commit_file = f\"{repository}/commits.csv\"\n",
    "    if not os.path.exists(commit_file):\n",
    "        print(f\"File not found: {commit_file}. Skipping repository.\")\n",
    "        continue\n",
    "\n",
    "    print(f\"Processing repository: {repository}\")\n",
    "    commit_df = pd.read_csv(commit_file)\n",
    "    commit_df = commit_df[['sha', 'date']]\n",
    "    print(f\"Max commit date: {commit_df['date'].max()}\")\n",
    "\n",
    "    commit_files_file = f\"{repository}/files.json\"\n",
    "    output_file = commit_file.replace('.csv', '_file_level_changes.csv')\n",
    "\n",
    "    if os.path.exists(output_file):\n",
    "        print(f\"{output_file} already exists. Skipping.\")\n",
    "        continue\n",
    "\n",
    "    sha_to_date = dict(zip(commit_df['sha'], commit_df['date']))\n",
    "    all_new_rows = []\n",
    "    counter = 0\n",
    "\n",
    "    with open(commit_files_file, 'rb') as f:\n",
    "        # ijson.items(f, 'item') streams each item in the top-level array\n",
    "        for commit in ijson.items(f, 'item'):\n",
    "            sha = commit.get(\"commit_sha\")\n",
    "            files_changed = commit.get(\"commit_files\", [])\n",
    "\n",
    "            for file in files_changed:\n",
    "                new_row = {\n",
    "                    'sha': sha,\n",
    "                    'date': sha_to_date.get(sha, None),\n",
    "                    'file_type': file.get(\"file_path\", \"\").split('.')[-1] if file.get(\"file_path\") else None,\n",
    "                    'loc_added': file.get(\"loc_added\"),\n",
    "                    'loc_removed': file.get(\"loc_removed\"),\n",
    "                    'calculated_loc_added': file.get(\"calculated_loc_added\"),\n",
    "                    'calculated_loc_removed': file.get(\"calculated_loc_removed\"),\n",
    "                    'calculated_loc_changed': file.get(\"calculated_loc_changed\"),\n",
    "                    'line_count': file.get(\"line_count\")\n",
    "                }\n",
    "                all_new_rows.append(new_row)\n",
    "\n",
    "            counter += 1\n",
    "            if counter % 10000 == 0:\n",
    "                print(f\"Transformed {counter} commits\")\n",
    "\n",
    "    print(f\"{datetime.datetime.now()}Finished transforming {counter} commits\")\n",
    "\n",
    "    if all_new_rows:\n",
    "        new_dataframe = pd.DataFrame(all_new_rows)\n",
    "        # Combine original commit_df with file-level changes\n",
    "        full_df = pd.concat([commit_df, new_dataframe], ignore_index=True)\n",
    "        full_df = full_df[full_df['line_count'] != 0]\n",
    "        full_df = full_df.dropna(subset=['file_type', 'loc_added', 'loc_removed', 'calculated_loc_added', 'calculated_loc_removed', 'calculated_loc_changed', 'line_count'])\n",
    "\n",
    "        # Calculate metrics\n",
    "        full_df = calculate_relative_churned_LOC(full_df)\n",
    "        full_df = calculate_relative_deleted_LOC(full_df)\n",
    "        full_df = calculate_relative_churned_vs_deleted_LOC(full_df)\n",
    "        \n",
    "\n",
    "        # Write to CSV\n",
    "        full_df.to_csv(output_file, index=False)\n",
    "        print(f\"{datetime.datetime.now()}: Saved results to {output_file}\")\n",
    "    else:\n",
    "        print(f\"No data to append for {repository}\")\n"
   ]
  }
 ],
 "metadata": {
  "kernelspec": {
   "display_name": "venv",
   "language": "python",
   "name": "python3"
  },
  "language_info": {
   "codemirror_mode": {
    "name": "ipython",
    "version": 3
   },
   "file_extension": ".py",
   "mimetype": "text/x-python",
   "name": "python",
   "nbconvert_exporter": "python",
   "pygments_lexer": "ipython3",
   "version": "3.13.5"
  }
 },
 "nbformat": 4,
 "nbformat_minor": 2
}
