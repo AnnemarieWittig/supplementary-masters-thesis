{
 "cells": [
  {
   "cell_type": "code",
   "execution_count": 40,
   "id": "e34e51db",
   "metadata": {},
   "outputs": [],
   "source": [
    "from dotenv import load_dotenv\n",
    "import pandas as pd\n",
    "import os\n",
    "import ast\n",
    "from helpers.bar_charts import plot_frequency_of_responses_bar, ChartType, plot_relative_distribution_horizontal_bar\n",
    "from helpers.likert_charts import plot_likert_response, LIKERT_SCALES, translate_to_agreeing, translate_to_time, plot_likert_response_without_text\n",
    "from helpers.colormap_factory import get_default_colormap, get_first_colors_from_palette_as_colorlist, blend_hex_colors\n",
    "\n",
    "load_dotenv(override=True)\n",
    "\n",
    "RESULTS_DIRECTORY = os.getenv(\"RESULTS_DIRECTORY\")\n",
    "BUCKET_SIZE = os.getenv(\"BUCKET_SIZE\")\n",
    "\n",
    "path_to_questionnaire_storage = '/Users/annemariewittig/Master/codeprodllm-surveys/COMP/ini'\n",
    "company = RESULTS_DIRECTORY.split('/')[-1]\n",
    "\n",
    "# if repositories_to_delete:\n",
    "#     df = df[~df[\"repository\"].isin(repositories_to_delete)]\n",
    "users_to_skip = ast.literal_eval(os.getenv(\"PARTICIPANTS_TO_REMOVE\", \"\"))"
   ]
  },
  {
   "cell_type": "code",
   "execution_count": 41,
   "id": "adf3b21c",
   "metadata": {},
   "outputs": [],
   "source": [
    "path_to_questionnaire_storage = path_to_questionnaire_storage.replace('COMP', company)"
   ]
  },
  {
   "cell_type": "code",
   "execution_count": 42,
   "id": "4387720b",
   "metadata": {},
   "outputs": [],
   "source": [
    "counting_columns = ['projectSize', 'education. Was ist Ihr höchster Bildungsabschluss?','framework. Welche Frameworks nutzen Sie?', 'ide. Welche IDE nutzen Sie?', 'progLang. Was ist/sind Ihre primäre Programmiersprache/n?']\n",
    "counting_columns = [col.split('.', 1)[0].strip() if '.' in col else col for col in counting_columns]\n",
    "\n",
    "median_columns = ['profYearsProgramming', 'progExp', 'yearsProgramming']\n",
    "likert_columns = ['progExpCompared[CEE1]', 'progExpCompared[CTE]', 'progExpCompared[PE]']"
   ]
  },
  {
   "cell_type": "code",
   "execution_count": 43,
   "id": "a9bced94",
   "metadata": {},
   "outputs": [],
   "source": [
    "import json \n",
    "import ast\n",
    "\n",
    "PARTICIPANTS_TO_REMOVE = ast.literal_eval(os.getenv(\"PARTICIPANTS_TO_REMOVE\", \"\"))\n",
    "mapping_path = f'/Users/annemariewittig/Master/repositoryanalysis/{RESULTS_DIRECTORY.split('/')[-1]}/by_person/mapping.json'\n",
    "\n",
    "# Load the mapping JSON\n",
    "with open(mapping_path, 'r') as f:\n",
    "    participant_mapping = json.load(f)\n",
    "\n",
    "order_of_repositories = list(participant_mapping[key]['SYNONYM'] for key in participant_mapping.keys() if 'XX' not in participant_mapping[key]['SYNONYM'])\n",
    "renaming_dict = {key: participant_mapping[key].get('SYNONYM', key) for key in participant_mapping.keys()}\n",
    "\n",
    "# mirror renaming_dict so that key = value and value = key\n",
    "renaming_dict_mirror = {v: k for k, v in renaming_dict.items()}"
   ]
  },
  {
   "cell_type": "code",
   "execution_count": 44,
   "id": "b14d64da",
   "metadata": {},
   "outputs": [],
   "source": [
    "merged_df_for_filtering = pd.read_csv(f\"{RESULTS_DIRECTORY}/merged_metrics_{BUCKET_SIZE}.csv\")\n",
    "\n",
    "def filter_and_remove_participants(df, participant_column='participantId'):\n",
    "    if PARTICIPANTS_TO_REMOVE:\n",
    "        df = df[~df[participant_column].isin(PARTICIPANTS_TO_REMOVE)]\n",
    "    participants_of_merged = merged_df_for_filtering['repository'].unique()\n",
    "    # rename participants_of_merged to match the renaming_dict\n",
    "    participants_of_merged = [renaming_dict_mirror.get(repo, repo) for repo in participants_of_merged]\n",
    "    \n",
    "\n",
    "    df = df[df[participant_column].isin(participants_of_merged)]\n",
    "    # Reset index after filtering\n",
    "\n",
    "    df.reset_index(drop=True, inplace=True)\n",
    "    return df"
   ]
  },
  {
   "cell_type": "code",
   "execution_count": 45,
   "id": "de6ec86b",
   "metadata": {},
   "outputs": [],
   "source": [
    "describing_values = {}"
   ]
  },
  {
   "cell_type": "code",
   "execution_count": 54,
   "id": "53120c9b",
   "metadata": {},
   "outputs": [
    {
     "name": "stdout",
     "output_type": "stream",
     "text": [
      "general.csv\n",
      "programming.csv\n",
      "profYearsProgramming\n"
     ]
    },
    {
     "data": {
      "image/png": "[encoded data removed]",
      "text/plain": [
       "<Figure size 400x130 with 1 Axes>"
      ]
     },
     "metadata": {},
     "output_type": "display_data"
    },
    {
     "name": "stdout",
     "output_type": "stream",
     "text": [
      "[13. 46. 46. 10. 46. 46. 10. 13. 13. 10. 10. 46. 10. 13.]\n",
      "progExp\n"
     ]
    },
    {
     "data": {
      "image/png": "[encoded data removed]",
      "text/plain": [
       "<Figure size 400x130 with 1 Axes>"
      ]
     },
     "metadata": {},
     "output_type": "display_data"
    },
    {
     "name": "stdout",
     "output_type": "stream",
     "text": [
      "[6 7 9 9 6 8 8 6 5 7 8 7 9 8]\n",
      "yearsProgramming\n"
     ]
    },
    {
     "data": {
      "image/png": "[encoded data removed]",
      "text/plain": [
       "<Figure size 400x130 with 1 Axes>"
      ]
     },
     "metadata": {},
     "output_type": "display_data"
    },
    {
     "name": "stdout",
     "output_type": "stream",
     "text": [
      "[ 1.5  4.   6.  17.   4.   8.  14.   2.   9.  15.  11.   6.  18.   4. ]\n",
      "Participants pre: 20 Participants post: 14\n"
     ]
    }
   ],
   "source": [
    "import numpy as np\n",
    "path_to_company_folder = path_to_questionnaire_storage.replace('COMP', company)\n",
    "files = ['general.csv', 'programming.csv']\n",
    "participants_pre = []\n",
    "participants_post = []\n",
    "for file in os.listdir(path_to_company_folder):\n",
    "    if file in files:\n",
    "        print(file)\n",
    "        path_to_file = os.path.join(path_to_company_folder, file)\n",
    "        df = pd.read_csv(path_to_file, index_col=False)\n",
    "        # Rename all columns: split at first. use [0]\n",
    "        df.columns = df.columns.str.split('.').str[0]\n",
    "        \n",
    "        # Filter users\n",
    "        participants_pre.extend(df['participantId'].unique())\n",
    "        df = filter_and_remove_participants(df)\n",
    "        participants_post.extend(df['participantId'].unique())\n",
    "\n",
    "        for column in median_columns:\n",
    "            if column in df.columns:\n",
    "                df[column] = pd.to_numeric(df[column], errors='coerce')\n",
    "                median = df[column].median()\n",
    "                print(column)\n",
    "                # create a visualization of the distribution of the column that is wide but not tall\n",
    "                if median > 0:\n",
    "                    import matplotlib.pyplot as plt\n",
    "\n",
    "                    # Create a wide but not tall histogram\n",
    "                    plt.figure(figsize=(4, 1.3))\n",
    "                    if column == 'progExp':\n",
    "                        bins = np.arange(0.5, 10.6, 1)  # Bins centered on integers 1 to 10\n",
    "                        width = 0.5\n",
    "                    else:\n",
    "                        bins = 20  # Default bin count\n",
    "                        width = None\n",
    "\n",
    "                    plt.hist(df[column].dropna(), bins=bins, edgecolor='black', alpha=0.5, color='#4672AF', rwidth=width)\n",
    "                    plt.axvline(median, color='#a9373b', linestyle='--', linewidth=2, label=f'Median: {median}')\n",
    "                    # plt.xlabel(column)\n",
    "                    # plt.ylabel('Frequency')\n",
    "                    # plt.legend()\n",
    "                    plt.grid(True, alpha=0.3)\n",
    "                    \n",
    "                    # Force at least 5 ticks on x-axis and ensure integer positions\n",
    "                    from matplotlib.ticker import MaxNLocator\n",
    "                    plt.gca().xaxis.set_major_locator(MaxNLocator(nbins='auto', min_n_ticks=5, integer=True))\n",
    "                    plt.gca().yaxis.set_major_locator(MaxNLocator(nbins='auto', min_n_ticks=3, integer=True))\n",
    "                    \n",
    "                    if column == 'progExp':\n",
    "                        plt.xticks(range(1, 11), fontsize=15)\n",
    "                        # plt.gca().xaxis.set_major_locator(MaxNLocator(integer=True))\n",
    "\n",
    "                    else:\n",
    "                        plt.xticks(fontsize=15)\n",
    "                    plt.yticks(fontsize=15)\n",
    "                    \n",
    "                    plt.tight_layout()\n",
    "                    \n",
    "                    # Save the plot\n",
    "                    plot_path = f'./graphics/participant_table/{column}_distribution.png'\n",
    "                    os.makedirs(os.path.dirname(plot_path), exist_ok=True)\n",
    "                    plt.savefig(plot_path, dpi=300, bbox_inches='tight')\n",
    "                    plt.show()\n",
    "                    \n",
    "                    print(df[column].values)\n",
    "                    # Store the median value for later use\n",
    "                    describing_values[column] = {\n",
    "                                                    'median': median,\n",
    "                                                    'plot_path': plot_path\n",
    "                                                }\n",
    "print(\"Participants pre:\", len(set(participants_pre))\n",
    "      , \"Participants post:\", len(set(participants_post)))"
   ]
  },
  {
   "cell_type": "markdown",
   "id": "efa70972",
   "metadata": {},
   "source": []
  },
  {
   "cell_type": "code",
   "execution_count": 47,
   "id": "ff4ebb8a",
   "metadata": {},
   "outputs": [
    {
     "name": "stdout",
     "output_type": "stream",
     "text": [
      "general.csv\n",
      "Index(['participantId', 'projectSize', 'projectteam'], dtype='object')\n",
      "Counts for column 'projectSize':\n",
      "  response  count\n",
      "0      mid      7\n",
      "1      big      6\n",
      "2    small      1\n",
      "programming.csv\n",
      "Index(['participantId', 'education', 'framework', 'ide',\n",
      "       'profYearsProgramming', 'progExp', 'progExpCompared[CEE1]',\n",
      "       'progExpCompared[CTE]', 'progExpCompared[PE]', 'progLang',\n",
      "       'progLangExp[CSharp]', 'progLangExp[C]', 'progLangExp[Java]',\n",
      "       'progLangExp[Other]', 'progLangExp[Plus]', 'progLangExp[Python]',\n",
      "       'progLangExp[TSJS]', 'yearsProgramming'],\n",
      "      dtype='object')\n",
      "Counts for column 'education':\n",
      "  response  count\n",
      "0        8      8\n",
      "1    -oth-      2\n",
      "2        7      2\n",
      "3        9      1\n",
      "4        6      1\n",
      "Counts for column 'framework':\n",
      "      response  count\n",
      "0  Spring Boot      9\n",
      "1      Angular      8\n",
      "2     React.js      3\n",
      "3      Quarkus      2\n",
      "Counts for column 'ide':\n",
      "                  response  count\n",
      "0  Jetbrains IDE (IntelliJ     12\n",
      "1                  PyCharm     12\n",
      "2                     ...)     12\n",
      "3                   VSCode      4\n",
      "4              Visual Code      1\n",
      "Counts for column 'progLang':\n",
      "                response  count\n",
      "0  TypeScript/JavaScript     12\n",
      "1                   Java     10\n",
      "2                 Python      3\n",
      "3                    C++      1\n",
      "4                     C#      1\n"
     ]
    }
   ],
   "source": [
    "\n",
    "path_to_company_folder = path_to_questionnaire_storage.replace('COMP', company)\n",
    "files = ['general.csv', 'programming.csv']\n",
    "\n",
    "for file in os.listdir(path_to_company_folder):\n",
    "    if file in files:\n",
    "        print(file)\n",
    "        path_to_file = os.path.join(path_to_company_folder, file)\n",
    "        df = pd.read_csv(path_to_file, index_col=False)\n",
    "        # Rename all columns: split at first. use [0]\n",
    "        df.columns = df.columns.str.split('.').str[0]\n",
    "        print(df.columns)\n",
    "        # Filter users\n",
    "        df = filter_and_remove_participants(df)\n",
    "\n",
    "        for column in counting_columns:\n",
    "            if column in df.columns:\n",
    "                print(f\"Counts for column '{column}':\")\n",
    "                values = df[column].dropna().tolist()\n",
    "                # Count occurrences of each value\n",
    "                counts = {}\n",
    "                for value in values:\n",
    "                    values = value.split(',') if ',' in value else [value]\n",
    "                    for v in values:\n",
    "                        v = v.strip()\n",
    "                        if v in counts:\n",
    "                            counts[v] += 1\n",
    "                        else:\n",
    "                            counts[v] = 1\n",
    "\n",
    "                # Sort the counts dictionary by value\n",
    "                counts = dict(sorted(counts.items(), key=lambda item: item[1], reverse=True))\n",
    "                \n",
    "                # Create a DataFrame from the counts\n",
    "                counts_df = pd.DataFrame(list(counts.items()), columns=['response', 'count'])\n",
    "                print (counts_df)"
   ]
  },
  {
   "cell_type": "code",
   "execution_count": 48,
   "id": "87224745",
   "metadata": {},
   "outputs": [
    {
     "name": "stdout",
     "output_type": "stream",
     "text": [
      "#816a88\n",
      "['#4672af', '#91a7c6', '#DDDDDD', '#cd9f9f', '#bd6261']\n"
     ]
    }
   ],
   "source": [
    "import numpy as np\n",
    "import matplotlib.pyplot as plt\n",
    "from matplotlib.colors import LinearSegmentedColormap\n",
    "from matplotlib import colormaps\n",
    "from matplotlib.colors import to_hex\n",
    "\n",
    "blended = blend_hex_colors('#BD6261', '#4672AF', 50)\n",
    "print(blended)\n",
    "# 1. Get 'vlag' colormap and extract pure left and right colors\n",
    "vlag = colormaps[\"vlag\"]\n",
    "ryb = colormaps[\"RdYlBu_r\"]\n",
    "left_color = to_hex((70/255, 114/255, 175/255, 1))   # Deep blue\n",
    "middle_color = \"#DDDDDD\"\n",
    "right_color = to_hex((189/255, 98/255, 97/255, 1))  # Deep red\n",
    "colors = [right_color, middle_color, left_color]\n",
    "colors = [colors[2], blend_hex_colors(colors[2], colors[1], 50), colors[1], blend_hex_colors(colors[0], colors[1], 50), colors[0]]\n",
    "print(colors)\n",
    "from matplotlib import pyplot as plt\n",
    "\n",
    "\n",
    "def in_table_likert_plot(values, colors = colors, filename=None, text_off = (-86, 44), left_label='A', right_label='B', left_offset = -105, right_offset = + 105):\n",
    "    fig, ax = plt.subplots(1, figsize=(22, 1.3))\n",
    "\n",
    "    offset = values[2]/2\n",
    "        \n",
    "    plt.barh(1, values[0], color = colors[0], height = 0.1, left=-values[0]-values[1] - offset)\n",
    "    plt.barh(1, values[1], color = colors[1], height = 0.1, left=-values[1] - offset)\n",
    "    plt.barh(1, values[2], color = colors[2], height = 0.1, left= -offset)\n",
    "    plt.barh(1, values[3], color = colors[3], height = 0.1, left=offset)\n",
    "    plt.barh(1, values[4], color = colors[4], height = 0.1, left=values[3] + offset)\n",
    "\n",
    "    ax.axvline(0, color='black', linestyle='--', dashes=(5, 2), linewidth=6)\n",
    "\n",
    "\n",
    "    plt.xlim(-100,100)\n",
    "    plt.axis('off')\n",
    "    plt.rcParams.update({'font.family': 'Times New Roman'})\n",
    "\n",
    "    # Add the left and right labels\n",
    "    plt.text(left_offset, 0.985, left_label, fontsize= 90, ha='right', va='center')  # Adjust positioning as needed\n",
    "    plt.text(right_offset, 0.985, right_label, fontsize= 90, ha='left', va='center')  # Adjust positioning as needed\n",
    "\n",
    "    # plt.title(column)\n",
    "    \n",
    "    # Dynamically calculate label positions\n",
    "    # total_left_extent = -values[0] - values[1] - 10 - (values[2]/2)\n",
    "    # total_right_extent = values[3] + values[4] + 10 + (values[2]/2)\n",
    "    \n",
    "    # # Add the left and right labels close to the bars\n",
    "    # plt.text(total_left_extent, 1, left_label, fontsize=68, ha='right', va='center')  # Adjust offset (-2) for slight padding\n",
    "    # plt.text(total_right_extent, 1, right_label, fontsize=68, ha='left', va='center')  # Adjust offset (+2) for slight padding\n",
    "\n",
    "    if filename:\n",
    "        plt.savefig(filename, bbox_inches='tight', pad_inches=0)"
   ]
  },
  {
   "cell_type": "code",
   "execution_count": 49,
   "id": "f7f4d201",
   "metadata": {},
   "outputs": [
    {
     "name": "stdout",
     "output_type": "stream",
     "text": [
      "progExpCompared[CEE1]\n",
      "progExpCompared[CEE1]\n",
      "Very inexperienced                       0.0\n",
      "Inexperienced                            1.0\n",
      "Neither inexperienced nor experienced    7.0\n",
      "Experienced                              2.0\n",
      "Very experienced                         4.0\n",
      "Name: count, dtype: float64\n",
      "progExpCompared[CEE1]\n",
      "Very inexperienced                        0.000000\n",
      "Inexperienced                             7.142857\n",
      "Neither inexperienced nor experienced    50.000000\n",
      "Experienced                              14.285714\n",
      "Very experienced                         28.571429\n",
      "Name: count, dtype: float64\n",
      "progExpCompared[CTE]\n",
      "progExpCompared[CTE]\n",
      "Very inexperienced                       0.0\n",
      "Inexperienced                            0.0\n",
      "Neither inexperienced nor experienced    6.0\n",
      "Experienced                              4.0\n",
      "Very experienced                         4.0\n",
      "Name: count, dtype: float64\n",
      "progExpCompared[CTE]\n",
      "Very inexperienced                        0.000000\n",
      "Inexperienced                             0.000000\n",
      "Neither inexperienced nor experienced    42.857143\n",
      "Experienced                              28.571429\n",
      "Very experienced                         28.571429\n",
      "Name: count, dtype: float64\n",
      "progExpCompared[PE]\n",
      "progExpCompared[PE]\n",
      "Very inexperienced                       1\n",
      "Inexperienced                            1\n",
      "Neither inexperienced nor experienced    6\n",
      "Experienced                              3\n",
      "Very experienced                         3\n",
      "Name: count, dtype: int64\n",
      "progExpCompared[PE]\n",
      "Very inexperienced                        7.142857\n",
      "Inexperienced                             7.142857\n",
      "Neither inexperienced nor experienced    42.857143\n",
      "Experienced                              21.428571\n",
      "Very experienced                         21.428571\n",
      "Name: count, dtype: float64\n",
      "Column 'progExpCompared[PE]' not found in expectations.csv.\n",
      "Column 'progExpCompared[PE]' not found in aiwork.csv.\n"
     ]
    },
    {
     "name": "stderr",
     "output_type": "stream",
     "text": [
      "/var/folders/19/fmw641dj3bnfy5qbgqrzmf100000gn/T/ipykernel_62781/3568863930.py:20: FutureWarning: A value is trying to be set on a copy of a DataFrame or Series through chained assignment using an inplace method.\n",
      "The behavior will change in pandas 3.0. This inplace method will never work because the intermediate object on which we are setting values always behaves as a copy.\n",
      "\n",
      "For example, when doing 'df[col].method(value, inplace=True)', try using 'df.method({col: value}, inplace=True)' or df[col] = df[col].method(value) instead, to perform the operation inplace on the original object.\n",
      "\n",
      "\n",
      "  df[column].replace({\n",
      "/var/folders/19/fmw641dj3bnfy5qbgqrzmf100000gn/T/ipykernel_62781/3568863930.py:20: FutureWarning: A value is trying to be set on a copy of a DataFrame or Series through chained assignment using an inplace method.\n",
      "The behavior will change in pandas 3.0. This inplace method will never work because the intermediate object on which we are setting values always behaves as a copy.\n",
      "\n",
      "For example, when doing 'df[col].method(value, inplace=True)', try using 'df.method({col: value}, inplace=True)' or df[col] = df[col].method(value) instead, to perform the operation inplace on the original object.\n",
      "\n",
      "\n",
      "  df[column].replace({\n",
      "/var/folders/19/fmw641dj3bnfy5qbgqrzmf100000gn/T/ipykernel_62781/3568863930.py:20: FutureWarning: A value is trying to be set on a copy of a DataFrame or Series through chained assignment using an inplace method.\n",
      "The behavior will change in pandas 3.0. This inplace method will never work because the intermediate object on which we are setting values always behaves as a copy.\n",
      "\n",
      "For example, when doing 'df[col].method(value, inplace=True)', try using 'df.method({col: value}, inplace=True)' or df[col] = df[col].method(value) instead, to perform the operation inplace on the original object.\n",
      "\n",
      "\n",
      "  df[column].replace({\n"
     ]
    },
    {
     "data": {
      "image/png": "[encoded data removed]",
      "text/plain": [
       "<Figure size 2200x130 with 1 Axes>"
      ]
     },
     "metadata": {},
     "output_type": "display_data"
    },
    {
     "data": {
      "image/png": "[encoded data removed]",
      "text/plain": [
       "<Figure size 2200x130 with 1 Axes>"
      ]
     },
     "metadata": {},
     "output_type": "display_data"
    },
    {
     "data": {
      "image/png": "[encoded data removed]",
      "text/plain": [
       "<Figure size 2200x130 with 1 Axes>"
      ]
     },
     "metadata": {},
     "output_type": "display_data"
    }
   ],
   "source": [
    "\n",
    "path_to_company_folder = path_to_questionnaire_storage.replace('COMP', company)\n",
    "files = ['general.csv', 'programming.csv']\n",
    "\n",
    "for file in os.listdir(path_to_company_folder):\n",
    "    if file in files:\n",
    "        path_to_file = os.path.join(path_to_company_folder, file)\n",
    "        df = pd.read_csv(path_to_file, index_col=False)\n",
    "        # Rename all columns: split at first. use [0]\n",
    "        df.columns = df.columns.str.split('.').str[0]\n",
    "        # Filter users\n",
    "        df =  filter_and_remove_participants(df)\n",
    "\n",
    "        for column in likert_columns:\n",
    "            if column in df.columns:\n",
    "                print(column)\n",
    "                df[column] = pd.to_numeric(df[column], errors='coerce')\n",
    "                median = df[column].median()\n",
    "                plot_path = f'./graphics/participant_table/{column}_likerts.png'\n",
    "                # 'likert': [\"Very inexperienced\", \"Inexperienced\", \"Neither inexperienced nor experienced\", \"Experienced\", \"Very experienced\"],\n",
    "                df[column].replace({\n",
    "                    1: \"Very inexperienced\",\n",
    "                    2: \"Inexperienced\",\n",
    "                    3: \"Neither inexperienced nor experienced\",\n",
    "                    4: \"Experienced\",\n",
    "                    5: \"Very experienced\"\n",
    "                }, inplace=True)\n",
    "                \n",
    "                likert_levels = LIKERT_SCALES['EXPERIENCE']['likert']\n",
    "                \n",
    "                normalized_counts = {}\n",
    "                # Reindex to ensure all Likert levels are represented and fill any missing values with 0\n",
    "                counts = df[column].value_counts().reindex(likert_levels).fillna(0)\n",
    "                print(counts)\n",
    "                # Calculate the percentage of each Likert response\n",
    "                counts = counts.astype(float)\n",
    "                percentages = (counts / counts.sum()) * 100\n",
    "                print(percentages)\n",
    "                normalized_counts[column] = (counts / counts.sum()) * 100  # convert to percentages\n",
    "\n",
    "                for question, values in normalized_counts.items():\n",
    "                    # Convert to list to match expected input format for `in_table_likert_plot`\n",
    "                    values_list = values.tolist()\n",
    "\n",
    "                    in_table_likert_plot(values_list, colors=colors, filename=plot_path, left_offset=-92, right_offset=98, left_label='I', right_label='E')\n",
    "\n",
    "                \n",
    "                describing_values[column] = {\n",
    "                                'median': median,\n",
    "                                'plot_path': plot_path\n",
    "                }\n",
    "    else:\n",
    "        print(f\"Column '{column}' not found in {file}.\")\n",
    "            \n",
    "                "
   ]
  },
  {
   "cell_type": "code",
   "execution_count": 50,
   "id": "1720ce4d",
   "metadata": {},
   "outputs": [],
   "source": [
    "import json\n",
    "with open('/Users/annemariewittig/Master/codeprodllm-surveys/flattened_ini_mapping.json', 'r') as f:\n",
    "    question_mapping = json.load(f)"
   ]
  },
  {
   "cell_type": "code",
   "execution_count": 51,
   "id": "b35f6492",
   "metadata": {},
   "outputs": [
    {
     "data": {
      "text/plain": [
       "{'profYearsProgramming': {'median': np.float64(13.0),\n",
       "  'plot_path': './graphics/participant_table/profYearsProgramming_distribution.png'},\n",
       " 'progExp': {'median': np.float64(7.5),\n",
       "  'plot_path': './graphics/participant_table/progExp_distribution.png'},\n",
       " 'yearsProgramming': {'median': np.float64(7.0),\n",
       "  'plot_path': './graphics/participant_table/yearsProgramming_distribution.png'},\n",
       " 'progExpCompared[CEE1]': {'median': np.float64(3.0),\n",
       "  'plot_path': './graphics/participant_table/progExpCompared[CEE1]_likerts.png'},\n",
       " 'progExpCompared[CTE]': {'median': np.float64(4.0),\n",
       "  'plot_path': './graphics/participant_table/progExpCompared[CTE]_likerts.png'},\n",
       " 'progExpCompared[PE]': {'median': np.float64(3.0),\n",
       "  'plot_path': './graphics/participant_table/progExpCompared[PE]_likerts.png'}}"
      ]
     },
     "execution_count": 51,
     "metadata": {},
     "output_type": "execute_result"
    }
   ],
   "source": [
    "describing_values"
   ]
  },
  {
   "cell_type": "code",
   "execution_count": 52,
   "id": "98b4628f",
   "metadata": {},
   "outputs": [
    {
     "data": {
      "text/plain": [
       "{'Years of professional programming experience': {'median': np.float64(13.0),\n",
       "  'plot_path': './graphics/participant_table/profYearsProgramming_distribution.png'},\n",
       " 'Self-rated programming experience (on a scale of 1-10)': {'median': np.float64(7.5),\n",
       "  'plot_path': './graphics/participant_table/progExp_distribution.png'},\n",
       " 'Years of private programming experience': {'median': np.float64(7.0),\n",
       "  'plot_path': './graphics/participant_table/yearsProgramming_distribution.png'},\n",
       " 'Perceived programming experience… (5-item likert from \\\\textbf{I}nexperienced to \\\\textbf{E}xperienced)': {},\n",
       " '…compared to all colleagues': {'median': np.float64(3.0),\n",
       "  'plot_path': './graphics/participant_table/progExpCompared[CEE1]_likerts.png'},\n",
       " '…compared to team colleagues': {'median': np.float64(4.0),\n",
       "  'plot_path': './graphics/participant_table/progExpCompared[CTE]_likerts.png'},\n",
       " '…compared to experts': {'median': np.float64(3.0),\n",
       "  'plot_path': './graphics/participant_table/progExpCompared[PE]_likerts.png'}}"
      ]
     },
     "execution_count": 52,
     "metadata": {},
     "output_type": "execute_result"
    }
   ],
   "source": [
    "future_csv = {}\n",
    "for key, value in describing_values.items():\n",
    "    q_key = key.split('[')[0]\n",
    "    full_question = question_mapping[q_key]\n",
    "    if '[' in key:\n",
    "        sq = question_mapping[key]\n",
    "        # If this is the first sub-question, add the main question header first\n",
    "        if full_question not in future_csv:\n",
    "            future_csv[full_question] = {}\n",
    "        future_csv[sq] = value\n",
    "    else:\n",
    "        future_csv[full_question] = value\n",
    "future_csv"
   ]
  },
  {
   "cell_type": "code",
   "execution_count": 53,
   "id": "5c299e94",
   "metadata": {},
   "outputs": [
    {
     "name": "stdout",
     "output_type": "stream",
     "text": [
      "\n",
      "\\begin{table}[h]\n",
      "\t\\centering\n",
      "\t\\caption{Descriptive statistics of the participants, collected through the questionnaire responses}\n",
      "\t\\label{tab:descriptive_statistics}\n",
      "\t\\begin{tabular}{m{0.45\\textwidth} >{\\centering\\arraybackslash}m{0.1\\textwidth} >{\\centering\u0007rraybackslash}m{0.45\\textwidth}}\n",
      "\t\t\\toprule\n",
      "\t\t& Median & Distribution \\\\\n",
      "\t\t\\midrule \\midrule\n",
      "\t\tYears of professional programming experience & 13.0 & \\includegraphics[width=0.45\\textwidth]{./graphics/participant_table/profYearsProgramming_distribution.png} \\\\ \n",
      "\t\tSelf-rated programming experience (on a scale of 1-10) & 7.5 & \\includegraphics[width=0.45\\textwidth]{./graphics/participant_table/progExp_distribution.png} \\\\ \n",
      "\t\tYears of private programming experience & 7.0 & \\includegraphics[width=0.45\\textwidth]{./graphics/participant_table/yearsProgramming_distribution.png} \\\\ \n",
      "\t\t\\multicolumn{3}{l}{\\textit{Perceived programming experience… (5-item likert from \\textbf{I}nexperienced to \\textbf{E}xperienced)}} \\\\ \n",
      "\t\t…compared to all colleagues & 3.0 & \\includegraphics[width=0.45\\textwidth]{./graphics/participant_table/progExpCompared[CEE1]_likerts.png} \\\\ \n",
      "\t\t…compared to team colleagues & 4.0 & \\includegraphics[width=0.45\\textwidth]{./graphics/participant_table/progExpCompared[CTE]_likerts.png} \\\\ \n",
      "\t\t…compared to experts & 3.0 & \\includegraphics[width=0.45\\textwidth]{./graphics/participant_table/progExpCompared[PE]_likerts.png} \\\\ \n",
      "\t\t\\bottomrule\n",
      "\t\\end{tabular}\n",
      "\\end{table}\n",
      "\n"
     ]
    },
    {
     "name": "stderr",
     "output_type": "stream",
     "text": [
      "<>:7: SyntaxWarning: invalid escape sequence '\\c'\n",
      "<>:7: SyntaxWarning: invalid escape sequence '\\c'\n",
      "/var/folders/19/fmw641dj3bnfy5qbgqrzmf100000gn/T/ipykernel_62781/565425964.py:7: SyntaxWarning: invalid escape sequence '\\c'\n",
      "  \\t\\\\begin{tabular}{m{0.45\\\\textwidth} >{\\centering\\\\arraybackslash}m{0.1\\\\textwidth} >{\\centering\\arraybackslash}m{0.45\\\\textwidth}}\n"
     ]
    }
   ],
   "source": [
    "# Create a clean LaTeX table following the requested format\n",
    "latex_table = \"\"\"\n",
    "\\\\begin{table}[h]\n",
    "\\t\\\\centering\n",
    "\\t\\\\caption{Descriptive statistics of the participants, collected through the questionnaire responses}\n",
    "\\t\\\\label{tab:descriptive_statistics}\n",
    "\\t\\\\begin{tabular}{m{0.45\\\\textwidth} >{\\centering\\\\arraybackslash}m{0.1\\\\textwidth} >{\\centering\\arraybackslash}m{0.45\\\\textwidth}}\n",
    "\\t\\t\\\\toprule\n",
    "\\t\\t& Median & Distribution \\\\\\\\\n",
    "\\t\\t\\\\midrule \\\\midrule\n",
    "\"\"\"\n",
    "\n",
    "for key, value in future_csv.items():\n",
    "    if value == {}:\n",
    "        # This is a main question header\n",
    "        latex_table += f\"\\t\\t\\\\multicolumn{{3}}{{l}}{{\\\\textit{{{key}}}}} \\\\\\\\ \\n\"\n",
    "    else:\n",
    "        # This is a question with data\n",
    "        median_val = float(value['median']) if hasattr(value['median'], 'item') else value['median']\n",
    "        \n",
    "        if 'plot_path' in value:\n",
    "            latex_table += f\"\\t\\t{key} & {median_val} & \\\\includegraphics[width=0.45\\\\textwidth]{{{value['plot_path']}}} \\\\\\\\ \\n\"\n",
    "        else:\n",
    "            latex_table += f\"\\t\\t{key} & {median_val} & - \\\\\\\\ \\n\"\n",
    "\n",
    "latex_table += \"\"\"\\t\\t\\\\bottomrule\n",
    "\\t\\\\end{tabular}\n",
    "\\\\end{table}\n",
    "\"\"\"\n",
    "\n",
    "print(latex_table)\n",
    "with open('descriptive_table.tex', 'w') as f:\n",
    "    f.write(latex_table)"
   ]
  }
 ],
 "metadata": {
  "kernelspec": {
   "display_name": "venv",
   "language": "python",
   "name": "python3"
  },
  "language_info": {
   "codemirror_mode": {
    "name": "ipython",
    "version": 3
   },
   "file_extension": ".py",
   "mimetype": "text/x-python",
   "name": "python",
   "nbconvert_exporter": "python",
   "pygments_lexer": "ipython3",
   "version": "3.13.5"
  }
 },
 "nbformat": 4,
 "nbformat_minor": 5
}
